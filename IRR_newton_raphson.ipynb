{
  "nbformat": 4,
  "nbformat_minor": 0,
  "metadata": {
    "colab": {
      "provenance": [],
      "authorship_tag": "ABX9TyMqZ4JjU3in1xXecMYvB0Tf",
      "include_colab_link": true
    },
    "kernelspec": {
      "name": "python3",
      "display_name": "Python 3"
    },
    "language_info": {
      "name": "python"
    }
  },
  "cells": [
    {
      "cell_type": "markdown",
      "metadata": {
        "id": "view-in-github",
        "colab_type": "text"
      },
      "source": [
        "<a href=\"https://colab.research.google.com/github/obbcopper/Python-programs-in-Data-Science/blob/main/IRR_newton_raphson.ipynb\" target=\"_parent\"><img src=\"https://colab.research.google.com/assets/colab-badge.svg\" alt=\"Open In Colab\"/></a>"
      ]
    },
    {
      "cell_type": "code",
      "source": [
        "import numpy as np"
      ],
      "metadata": {
        "id": "nOocrExhoSrH"
      },
      "execution_count": 8,
      "outputs": []
    },
    {
      "cell_type": "code",
      "execution_count": 9,
      "metadata": {
        "id": "B36uTmW1ZLyk"
      },
      "outputs": [],
      "source": [
        "# Define function to calculate Internal Rate of Return (IRR) using Newton-Raphson method\n",
        "\n",
        "def IRR(cash_flow, guess_rate=0.05, tolerance=1e-6):\n",
        "    CF = cash_flow\n",
        "    rate = guess_rate\n",
        "    iteration = 100\n",
        "    Number_of_loop = 0\n",
        "\n",
        "    def npv(rate, CF):\n",
        "        total_npv = 0\n",
        "        for i in range(len(CF)):\n",
        "            npv = CF[i]/(1+rate)**i\n",
        "            total_npv += npv\n",
        "        return total_npv\n",
        "\n",
        "    def derivative_npv(rate, CF):\n",
        "        total_npvd = 0\n",
        "        for i in range(len(CF)):\n",
        "            npvd = -CF[i]*i/(1+rate)**(i+1)\n",
        "            total_npvd += npvd\n",
        "        return total_npvd\n",
        "\n",
        "    for i in range(iteration):\n",
        "        npv_val = npv(rate, CF)\n",
        "        deriv_val = derivative_npv(rate, CF)\n",
        "\n",
        "        new_rate = rate - npv_val / deriv_val\n",
        "        Number_of_loop += 1\n",
        "        if((new_rate - rate)<tolerance):\n",
        "            break\n",
        "        rate = new_rate\n",
        "\n",
        "    return new_rate, Number_of_loop"
      ]
    },
    {
      "cell_type": "code",
      "source": [
        "# Define cash flow list with initial investment and subsequent returns"
      ],
      "metadata": {
        "id": "yqyUcBc77WIz"
      },
      "execution_count": 10,
      "outputs": []
    },
    {
      "cell_type": "code",
      "source": [
        "#Example_A\n",
        "cash_flow = [-500000, 200000, 200000, 40000, 40000, 0, 90000]\n",
        "irr, loop = IRR(cash_flow)\n",
        "print(f\"Calculated IRR: {irr:.2%}\")\n",
        "print(f\"Number of loop: {loop}\")"
      ],
      "metadata": {
        "colab": {
          "base_uri": "https://localhost:8080/"
        },
        "id": "64GngawhaLdp",
        "outputId": "7cdcdf78-9d29-4de7-8b57-ce908d8f45b5"
      },
      "execution_count": 11,
      "outputs": [
        {
          "output_type": "stream",
          "name": "stdout",
          "text": [
            "Calculated IRR: 5.58%\n",
            "Number of loop: 3\n"
          ]
        }
      ]
    },
    {
      "cell_type": "code",
      "source": [
        "#Example_B\n",
        "cash_flow = [-500000, 100000, 100000, 100000, 100000, 100000, 90000]\n",
        "irr, loop = IRR(cash_flow)\n",
        "print(f\"Calculated IRR: {irr:.2%}\")\n",
        "print(f\"Number of loop: {loop}\")"
      ],
      "metadata": {
        "colab": {
          "base_uri": "https://localhost:8080/"
        },
        "id": "vyRwffwkrjIH",
        "outputId": "e3cb1e61-31fe-4003-8b7c-e3ceef2160b4"
      },
      "execution_count": 12,
      "outputs": [
        {
          "output_type": "stream",
          "name": "stdout",
          "text": [
            "Calculated IRR: 5.01%\n",
            "Number of loop: 2\n"
          ]
        }
      ]
    },
    {
      "cell_type": "code",
      "source": [
        "# This pair of example shows that even if the total number of cashflow in Example_B is more than\n",
        "# Example_A, Example_B's IRR rate is smaller. There is time value for money in invesment."
      ],
      "metadata": {
        "id": "GnTSroMH47UR"
      },
      "execution_count": 13,
      "outputs": []
    }
  ]
}